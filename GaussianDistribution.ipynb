{
 "cells": [
  {
   "cell_type": "code",
   "execution_count": 23,
   "metadata": {},
   "outputs": [],
   "source": [
    "# %pip install jupyter-dash -q"
   ]
  },
  {
   "cell_type": "code",
   "execution_count": null,
   "metadata": {},
   "outputs": [],
   "source": [
    "import dash\n",
    "from dash import dcc, html\n",
    "from dash.dependencies import Input, Output\n",
    "import numpy as np\n",
    "from time import time\n",
    "import plotly.graph_objects as go"
   ]
  },
  {
   "cell_type": "markdown",
   "metadata": {},
   "source": [
    "### Rotation matrix from axis and angle\n",
    "\n",
    "$$\n",
    "R={\\begin{bmatrix}\\cos \\theta +u_{x}^{2}\\left(1-\\cos \\theta \\right)&u_{x}u_{y}\\left(1-\\cos \\theta \\right)-u_{z}\\sin \\theta &u_{x}u_{z}\\left(1-\\cos \\theta \\right)+u_{y}\\sin \\theta \\\\u_{y}u_{x}\\left(1-\\cos \\theta \\right)+u_{z}\\sin \\theta &\\cos \\theta +u_{y}^{2}\\left(1-\\cos \\theta \\right)&u_{y}u_{z}\\left(1-\\cos \\theta \\right)-u_{x}\\sin \\theta \\\\u_{z}u_{x}\\left(1-\\cos \\theta \\right)-u_{y}\\sin \\theta &u_{z}u_{y}\\left(1-\\cos \\theta \\right)+u_{x}\\sin \\theta &\\cos \\theta +u_{z}^{2}\\left(1-\\cos \\theta \\right)\\end{bmatrix}}\n",
    "$$"
   ]
  },
  {
   "cell_type": "markdown",
   "metadata": {},
   "source": [
    "### Rotation matrix from angle\n",
    "$$\n",
    "{\\begin{aligned}R=R_{z}(\\alpha )\\,R_{y}(\\beta )\\,R_{x}(\\gamma )&={\\overset {\\text{yaw}}{\\begin{bmatrix}\\cos \\alpha &-\\sin \\alpha &0\\\\\\sin \\alpha &\\cos \\alpha &0\\\\0&0&1\\\\\\end{bmatrix}}}{\\overset {\\text{pitch}}{\\begin{bmatrix}\\cos \\beta &0&\\sin \\beta \\\\0&1&0\\\\-\\sin \\beta &0&\\cos \\beta \\\\\\end{bmatrix}}}{\\overset {\\text{roll}}{\\begin{bmatrix}1&0&0\\\\0&\\cos \\gamma &-\\sin \\gamma \\\\0&\\sin \\gamma &\\cos \\gamma \\\\\\end{bmatrix}}}\\\\&={\\begin{bmatrix}\\cos \\alpha \\cos \\beta &\\cos \\alpha \\sin \\beta \\sin \\gamma -\\sin \\alpha \\cos \\gamma &\\cos \\alpha \\sin \\beta \\cos \\gamma +\\sin \\alpha \\sin \\gamma \\\\\\sin \\alpha \\cos \\beta &\\sin \\alpha \\sin \\beta \\sin \\gamma +\\cos \\alpha \\cos \\gamma &\\sin \\alpha \\sin \\beta \\cos \\gamma -\\cos \\alpha \\sin \\gamma \\\\-\\sin \\beta &\\cos \\beta \\sin \\gamma &\\cos \\beta \\cos \\gamma \\\\\\end{bmatrix}}\\end{aligned}}\n",
    "$$"
   ]
  },
  {
   "cell_type": "code",
   "execution_count": 9,
   "metadata": {},
   "outputs": [],
   "source": [
    "def angles2Matrix(alpha, beta, gamma):\n",
    "    \"\"\"\n",
    "    Convert Euler angles to rotation matrix.\n",
    "    \"\"\"\n",
    "    alpha = np.radians(alpha)\n",
    "    beta = np.radians(beta)\n",
    "    gamma = np.radians(gamma)\n",
    "    Rz = np.array([\n",
    "        [np.cos(alpha), -np.sin(alpha), 0],\n",
    "        [np.sin(alpha), np.cos(alpha), 0],\n",
    "        [0, 0, 1]\n",
    "    ])\n",
    "    Ry = np.array([\n",
    "        [np.cos(beta), 0, np.sin(beta)],\n",
    "        [0, 1, 0],\n",
    "        [-np.sin(beta), 0, np.cos(beta)]\n",
    "    ])\n",
    "    Rx = np.array([\n",
    "        [1, 0, 0],\n",
    "        [0, np.cos(gamma), -np.sin(gamma)],\n",
    "        [0, np.sin(gamma), np.cos(gamma)]\n",
    "    ])\n",
    "    return Rz @ Ry @ Rx\n",
    "#     return np.array([\n",
    "#         [np.cos(alpha)*np.cos(beta), np.cos(alpha)*np.sin(beta)*np.sin(gamma)-np.sin(alpha)*np.cos(gamma), np.cos(alpha)*np.sin(beta)*np.cos(gamma)+np.sin(alpha)*np.sin(gamma)],\n",
    "#         [np.sin(alpha)*np.cos(beta), np.sin(alpha)*np.sin(beta)*np.sin(gamma)+np.cos(alpha)*np.cos(gamma), np.sin(alpha)*np.sin(beta)*np.cos(gamma)-np.cos(alpha)*np.sin(gamma)],\n",
    "#         [-np.sin(beta), np.cos(beta)*np.sin(gamma), np.cos(beta)*np.cos(gamma)]\n",
    "#     ])"
   ]
  },
  {
   "cell_type": "markdown",
   "metadata": {},
   "source": [
    "### Scaling matrix\n",
    "$$\n",
    "S_{v}={\\begin{bmatrix}v_{x}&0&0\\\\0&v_{y}&0\\\\0&0&v_{z}\\\\\\end{bmatrix}}\n",
    "$$"
   ]
  },
  {
   "cell_type": "code",
   "execution_count": null,
   "metadata": {},
   "outputs": [],
   "source": [
    "# Scaling matrix\n",
    "def scaling_matrix(scale_x, scale_y, scale_z):\n",
    "    return np.diag([scale_x, scale_y, scale_z])"
   ]
  },
  {
   "cell_type": "markdown",
   "metadata": {},
   "source": [
    "### eigen decomposition of a covariance matrix\n",
    "\n",
    "$$\n",
    "\\Sigma=RSS^TR^T\n",
    "$$"
   ]
  },
  {
   "cell_type": "code",
   "execution_count": 10,
   "metadata": {},
   "outputs": [],
   "source": [
    "# Covariance matrix\n",
    "def covariance_matrix(rot, scale):\n",
    "    return rot @ scale @ scale.T @ rot.T "
   ]
  },
  {
   "cell_type": "markdown",
   "metadata": {},
   "source": [
    "### Multivariate Gaussian Distribution\n",
    "\n",
    "the probability density function (pdf) of a k dimension multivariate distribution is\n",
    "\n",
    "\n",
    "$$\n",
    "p(\\mathbf{x}; \\mu, \\Sigma )={\\frac {1}{\\sqrt {(2\\pi )^{k}|{\\boldsymbol {\\Sigma }}|}}}\\exp \\left(-{1 \\over 2}(\\mathbf {x} -{\\boldsymbol {\\mu }})^{\\rm {T}}{\\boldsymbol {\\Sigma }}^{-1}({\\mathbf {x} }-{\\boldsymbol {\\mu }})\\right)\n",
    "$$\n"
   ]
  },
  {
   "cell_type": "code",
   "execution_count": 40,
   "metadata": {},
   "outputs": [],
   "source": [
    "def plot_ellipsoid(mean, cov, n_points=40):\n",
    "    # SVD decomposition\n",
    "    U, s, _ = np.linalg.svd(cov)\n",
    "    eigvals = s\n",
    "    eigvecs = U\n",
    "\n",
    "    # Define a grid for the ellipsoid\n",
    "    u = np.linspace(0, 2 * np.pi, n_points)\n",
    "    v = np.linspace(0, np.pi, n_points)\n",
    "    x = np.outer(np.cos(u), np.sin(v))\n",
    "    y = np.outer(np.sin(u), np.sin(v))\n",
    "    z = np.outer(np.ones_like(u), np.cos(v))\n",
    "\n",
    "    # Combine the points into a single matrix for transformation\n",
    "    ellipsoid_points = np.array([x.ravel(), y.ravel(), z.ravel()]).T\n",
    "    transformed_points = ellipsoid_points @ np.diag(np.sqrt(eigvals)) @ eigvecs.T\n",
    "\n",
    "    # Reshape the points back to the ellipsoid grid\n",
    "    x = transformed_points[:, 0].reshape(n_points, n_points) + mean[0]\n",
    "    y = transformed_points[:, 1].reshape(n_points, n_points) + mean[1]\n",
    "    z = transformed_points[:, 2].reshape(n_points, n_points) + mean[2]\n",
    "\n",
    "    return x, y, z"
   ]
  },
  {
   "cell_type": "markdown",
   "metadata": {},
   "source": [
    "## Initialization"
   ]
  },
  {
   "cell_type": "code",
   "execution_count": 51,
   "metadata": {},
   "outputs": [
    {
     "name": "stdout",
     "output_type": "stream",
     "text": [
      "Computation time: 0.87ms\n"
     ]
    }
   ],
   "source": [
    "def get_gaussian_ellipsoid(mean_x, mean_y, mean_z, alpha, beta, gamma, scale_x, scale_y, scale_z):\n",
    "    # Compute mean\n",
    "    mean = np.array([mean_x, mean_y, mean_z])\n",
    "    # Compute rotation matrix\n",
    "    rot = rotation_matrix(alpha, beta, gamma)\n",
    "    # Compute scaling matrix\n",
    "    scale = scaling_matrix(scale_x, scale_y, scale_z)\n",
    "    # Compute new covariance matrix\n",
    "    cov = covariance_matrix(rot, scale)\n",
    "    # Plot ellipsoid\n",
    "    x, y, z = plot_ellipsoid(mean, cov, n_points)\n",
    "    return x, y, z\n",
    "\n",
    "n_points = 40\n",
    "start = time()\n",
    "x, y, z = get_gaussian_ellipsoid(0, 0, 0, 0, 0, 0, 1, 1, 1)\n",
    "print(f\"Computation time: {(time()-start)*1000:.2f}ms\")\n"
   ]
  },
  {
   "cell_type": "markdown",
   "metadata": {},
   "source": [
    "## Visualization"
   ]
  },
  {
   "cell_type": "code",
   "execution_count": 68,
   "metadata": {},
   "outputs": [
    {
     "data": {
      "text/html": [
       "\n",
       "        <iframe\n",
       "            width=\"100%\"\n",
       "            height=\"650\"\n",
       "            src=\"http://127.0.0.1:8050/\"\n",
       "            frameborder=\"0\"\n",
       "            allowfullscreen\n",
       "            \n",
       "        ></iframe>\n",
       "        "
      ],
      "text/plain": [
       "<IPython.lib.display.IFrame at 0x7fc6686ae8c0>"
      ]
     },
     "metadata": {},
     "output_type": "display_data"
    }
   ],
   "source": [
    "fig = go.Figure()\n",
    "fig.add_trace(go.Surface(x=x, y=y, z=z))\n",
    "fig.update_layout(\n",
    "    title='Multivariate Gaussian Distribution',\n",
    "    autosize=False,\n",
    "    width=600,\n",
    "    height=600,\n",
    "    scene=dict(\n",
    "        xaxis=dict(range=[-5, 5]),\n",
    "        yaxis=dict(range=[-5, 5]),\n",
    "        zaxis=dict(range=[-5, 5]),\n",
    "        aspectratio=dict(x=1, y=1, z=1),\n",
    "    ),\n",
    ")\n",
    "\n",
    "fig2D = go.Figure()\n",
    "fig2D.add_trace(go.Contour(\n",
    "        z=[[10, 10.625, 12.5, 15.625, 20],\n",
    "           [5.625, 6.25, 8.125, 11.25, 15.625],\n",
    "           [2.5, 3.125, 5., 8.125, 12.5],\n",
    "           [0.625, 1.25, 3.125, 6.25, 10.625],\n",
    "           [0, 0.625, 2.5, 5.625, 10]],\n",
    "        # heatmap gradient coloring is applied between each contour level\n",
    "        contours_coloring='heatmap' # can also be 'lines', or 'none'\n",
    "    ))\n",
    "fig2D.update_layout(\n",
    "    title='Multivariate Gaussian Distribution',\n",
    "    autosize=False,\n",
    "    width=600,\n",
    "    height=600,\n",
    "    scene=dict(\n",
    "        xaxis=dict(range=[-5, 5]),\n",
    "        yaxis=dict(range=[-5, 5]),\n",
    "        zaxis=dict(range=[-5, 5]),\n",
    "        aspectratio=dict(x=1, y=1, z=1),\n",
    "    ),\n",
    ")\n",
    "\n",
    "\n",
    "app = dash.Dash(__name__)\n",
    "app.layout = html.Div([\n",
    "    html.Div(children=[\n",
    "        html.Div(children=[\n",
    "            dcc.Graph(id='ellipsoid-plot', figure=fig),\n",
    "        ], style={'display': 'inline-block'}),\n",
    "        html.Div(children=[\n",
    "            dcc.Graph(id='ellipsoid-plot2d', figure=fig2D),\n",
    "        ], style={'display': 'inline-block'}),\n",
    "    ], style={ 'display': 'inline-block'}),\n",
    "    html.Div(children=[\n",
    "        html.Div('mean-x', style={'color': 'white', 'fontSize': 14, \"padding-left\": \"20px\"}),\n",
    "        dcc.Slider(id='mean-x', min=-4, max=4, step=0.1, value=0, marks={i: str(i) for i in range(-10, 11)}, updatemode='drag'),\n",
    "        html.Div('mean-y', style={'color': 'white', 'fontSize': 14, \"padding-left\": \"20px\"}),\n",
    "        dcc.Slider(id='mean-y', min=-4, max=4, step=0.1, value=0, marks={i: str(i) for i in range(-10, 11)}, updatemode='drag'),\n",
    "        html.Div('mean-z', style={'color': 'white', 'fontSize': 14, \"padding-left\": \"20px\"}),\n",
    "        dcc.Slider(id='mean-z', min=-4, max=4, step=0.1, value=0, marks={i: str(i) for i in range(-10, 11)}, updatemode='drag'),\n",
    "        html.Div('alpha', style={'color': 'white', 'fontSize': 14, \"padding-left\": \"20px\"}),\n",
    "        dcc.Slider(id='alpha', min=0, max=360, step=1, value=0, marks={i: str(i) for i in range(0, 361, 30)}, updatemode='drag'),\n",
    "        html.Div('beta', style={'color': 'white', 'fontSize': 14, \"padding-left\": \"20px\"}),\n",
    "        dcc.Slider(id='beta', min=0, max=360, step=1, value=0, marks={i: str(i) for i in range(0, 361, 30)}, updatemode='drag'),\n",
    "        html.Div('gamma', style={'color': 'white', 'fontSize': 14, \"padding-left\": \"20px\"}),\n",
    "        dcc.Slider(id='gamma', min=0, max=360, step=1, value=0, marks={i: str(i) for i in range(0, 361, 30)}, updatemode='drag'),\n",
    "        html.Div('scale-x', style={'color': 'white', 'fontSize': 14, \"padding-left\": \"20px\"}),\n",
    "        dcc.Slider(id='scale-x', min=0, max=5, step=0.1, value=1, marks={i: str(i) for i in range(0, 6)}, updatemode='drag'),\n",
    "        html.Div('scale-y', style={'color': 'white', 'fontSize': 14, \"padding-left\": \"20px\"}),\n",
    "        dcc.Slider(id='scale-y', min=0, max=5, step=0.1, value=1, marks={i: str(i) for i in range(0, 6)}, updatemode='drag'),\n",
    "        html.Div('scale-z', style={'color': 'white', 'fontSize': 14, \"padding-left\": \"20px\"}),\n",
    "        dcc.Slider(id='scale-z', min=0, max=5, step=0.1, value=1, marks={i: str(i) for i in range(0, 6)}, updatemode='drag'),\n",
    "    ], style={'width': '30%', 'display': 'inline-block'}),\n",
    "])\n",
    "\n",
    "@app.callback(\n",
    "    Output('ellipsoid-plot', 'extendData'),\n",
    "    [Input('mean-x', 'value'),\n",
    "     Input('mean-y', 'value'),\n",
    "     Input('mean-z', 'value'),\n",
    "     Input('alpha', 'value'),\n",
    "     Input('beta', 'value'),\n",
    "     Input('gamma', 'value'),\n",
    "     Input('scale-x', 'value'),\n",
    "     Input('scale-y', 'value'),\n",
    "     Input('scale-z', 'value')]\n",
    ")\n",
    "def update_ellipsoid(*data):\n",
    "    x, y, z = get_gaussian_ellipsoid(*data)\n",
    "    return [{\n",
    "        'x': [x],\n",
    "        'y': [y],\n",
    "        'z': [z]\n",
    "    }, [0], n_points]\n",
    "\n",
    "app.run_server(debug=True)\n"
   ]
  }
 ],
 "metadata": {
  "kernelspec": {
   "display_name": "sv",
   "language": "python",
   "name": "python3"
  },
  "language_info": {
   "codemirror_mode": {
    "name": "ipython",
    "version": 3
   },
   "file_extension": ".py",
   "mimetype": "text/x-python",
   "name": "python",
   "nbconvert_exporter": "python",
   "pygments_lexer": "ipython3",
   "version": "3.10.4"
  }
 },
 "nbformat": 4,
 "nbformat_minor": 2
}
